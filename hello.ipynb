{
 "cells": [
  {
   "cell_type": "code",
   "execution_count": 1,
   "metadata": {},
   "outputs": [],
   "source": [
    "#Import Package Dependencies\r\n",
    "from DataAnalytics import DataAnalytics\r\n",
    "import warnings\r\n",
    "import pandas as pd\r\n",
    "import pyodbc\r\n",
    "import os\r\n",
    "\r\n",
    "warnings.filterwarnings(\"ignore\")"
   ]
  },
  {
   "cell_type": "code",
   "execution_count": 2,
   "metadata": {},
   "outputs": [],
   "source": [
    "# Create New Project\r\n",
    "#  \r\n",
    "# Creates a new instance of the DataAnalytics Package and links it to variable wd.\r\n",
    "# Variable wd will allow the use of all methods in DataAnalytics package.\r\n",
    "#\r\n",
    "# July 2021 Update\r\n",
    "#\r\n",
    "# All dataframes will have a copy stored to disk using .das file extension when created.\r\n",
    "#  \r\n",
    "# NOTE: If .das files are detected in the current working folder then those \r\n",
    "#       when a new instance of DataAnalytics is created, those dataframes \r\n",
    "#       will be loaded into the new instance.\r\n",
    "\r\n",
    "wd = DataAnalytics()\r\n"
   ]
  },
  {
   "cell_type": "code",
   "execution_count": 3,
   "metadata": {},
   "outputs": [],
   "source": [
    "# Import Data: Delimited Files\r\n",
    "#\r\n",
    "# The example below imports data from a group of flat files.\r\n",
    "# Files are located in a folder called 'data' in the same directory, \r\n",
    "# have the extension .asc \r\n",
    "# and are delimited with a semicolon (;)\r\n",
    "\r\n",
    "source = 'file' \r\n",
    "folder = 'data\\\\'\r\n",
    "tables = ['trans.asc','account.asc','client.asc','district.asc']\r\n",
    "\r\n",
    "# Ex: wd.importFile('file.trans.asc','data\\\\trans.asc',';')\r\n",
    "# \r\n",
    "# Import flat file \r\n",
    "# at location 'data\\\\trans.asc',\r\n",
    "# use separator ';'\r\n",
    "# and give the imported table the name 'file.trans.asc'\r\n",
    "# \r\n",
    "# A for loop is set up below to import multiple files found in the same folder and with similar details.\r\n",
    "\r\n",
    "for tbl in tables:\r\n",
    "    \r\n",
    "    wd.importFile(folder + tbl, ';',tblName = source + '.' + tbl)"
   ]
  },
  {
   "cell_type": "code",
   "execution_count": 4,
   "metadata": {},
   "outputs": [],
   "source": [
    "# Import Data: SQL\r\n",
    "#\r\n",
    "# The example below imports data from a SQL data source.\r\n",
    "# A table is being imported from a SQL Server database.\r\n",
    "# The data connection is first defined by specifying the odbc driver, server, database and UserID.\r\n",
    "# The password is not required for Windows Authenticated User logon.\r\n",
    "\r\n",
    "# NOTE: The list of available ODBC drivers can be seen by running wd.available_drivers() .\r\n",
    "#       If the required driver is not installed, please install and run the above command \r\n",
    "#       to ensure it is available.\r\n",
    "\r\n",
    "driver = 'SQL Server'\r\n",
    "server = 'BYTE'\r\n",
    "db = 'AnalyticsData'\r\n",
    "UID = 'BYTE\\Rory Barrett'\r\n",
    "\r\n",
    "# For convenience, wd.sqlCxn(...) returns a formatted connection string for the provided details. \r\n",
    "# The output can be read with a print statement. \r\n",
    "# Include pw = ... if password is required. wd.sqlCxn(driver,server,db,UID,pw='password')\r\n",
    "\r\n",
    "# Ex: wd.importSQL(wd.sqlCxn(driver,server,db,UID),'[dbo].[account]',tblName = 'acc_x')\r\n",
    "#\r\n",
    "# Import data from SQL using connection string wd.sqlCxn(..), \r\n",
    "# table '[dbo].[account]' \r\n",
    "# and give the imported table the name 'acc_x' \r\n",
    "\r\n",
    "wd.importSQL(wd.sqlCxn(driver,server,db,UID),'[dbo].[account]',tblName = 'acc_x')"
   ]
  },
  {
   "cell_type": "code",
   "execution_count": 5,
   "metadata": {},
   "outputs": [],
   "source": [
    "# Import Data: Excel Files\r\n",
    "#\r\n",
    "# The example below imports data from an excel file.\r\n",
    "# File is located in a folder called 'data' in the same directory, \r\n",
    "\r\n",
    "folder = 'data\\\\'\r\n",
    "\r\n",
    "# Ex: wd.importExcel('data\\\\teamsheet.xlsx')\r\n",
    "# \r\n",
    "# Import XLSX file \r\n",
    "# at location 'data\\\\teamsheet.xlsx'\r\n",
    "\r\n",
    "wd.importExcel(folder + 'teamsheet.xlsx')\r\n",
    "\r\n",
    "# Ex: wd.importExcel('data\\\\teamsheet.xlsx', sheet='Names', tblName='Teamsheet_Names')\r\n",
    "# \r\n",
    "# Import XLSX file \r\n",
    "# at location 'data\\\\teamsheet.xlsx', \r\n",
    "# use sheet 'Names' \r\n",
    "# and give the imported table the name 'Teamsheet_Names'\r\n",
    "wd.importExcel(folder + 'teamsheet.xlsx', sheet='Names', tblName='Teamsheet_Names')"
   ]
  },
  {
   "cell_type": "code",
   "execution_count": 6,
   "metadata": {},
   "outputs": [
    {
     "data": {
      "text/html": [
       "<div>\n",
       "<style scoped>\n",
       "    .dataframe tbody tr th:only-of-type {\n",
       "        vertical-align: middle;\n",
       "    }\n",
       "\n",
       "    .dataframe tbody tr th {\n",
       "        vertical-align: top;\n",
       "    }\n",
       "\n",
       "    .dataframe thead th {\n",
       "        text-align: right;\n",
       "    }\n",
       "</style>\n",
       "<table border=\"1\" class=\"dataframe\">\n",
       "  <thead>\n",
       "    <tr style=\"text-align: right;\">\n",
       "      <th></th>\n",
       "      <th>Table Name</th>\n",
       "    </tr>\n",
       "  </thead>\n",
       "  <tbody>\n",
       "    <tr>\n",
       "      <th>0</th>\n",
       "      <td>acc_x</td>\n",
       "    </tr>\n",
       "    <tr>\n",
       "      <th>1</th>\n",
       "      <td>file.account.asc</td>\n",
       "    </tr>\n",
       "    <tr>\n",
       "      <th>2</th>\n",
       "      <td>file.client.asc</td>\n",
       "    </tr>\n",
       "    <tr>\n",
       "      <th>3</th>\n",
       "      <td>file.district.asc</td>\n",
       "    </tr>\n",
       "    <tr>\n",
       "      <th>4</th>\n",
       "      <td>file.trans.asc</td>\n",
       "    </tr>\n",
       "    <tr>\n",
       "      <th>5</th>\n",
       "      <td>Teamsheet_Names</td>\n",
       "    </tr>\n",
       "    <tr>\n",
       "      <th>6</th>\n",
       "      <td>tmp.account.asc</td>\n",
       "    </tr>\n",
       "    <tr>\n",
       "      <th>7</th>\n",
       "      <td>tmp.client.asc</td>\n",
       "    </tr>\n",
       "    <tr>\n",
       "      <th>8</th>\n",
       "      <td>tmp.district.asc</td>\n",
       "    </tr>\n",
       "    <tr>\n",
       "      <th>9</th>\n",
       "      <td>tmp.trans.asc</td>\n",
       "    </tr>\n",
       "    <tr>\n",
       "      <th>10</th>\n",
       "      <td>teamsheet.xlsx</td>\n",
       "    </tr>\n",
       "  </tbody>\n",
       "</table>\n",
       "</div>"
      ],
      "text/plain": [
       "           Table Name\n",
       "0               acc_x\n",
       "1    file.account.asc\n",
       "2     file.client.asc\n",
       "3   file.district.asc\n",
       "4      file.trans.asc\n",
       "5     Teamsheet_Names\n",
       "6     tmp.account.asc\n",
       "7      tmp.client.asc\n",
       "8    tmp.district.asc\n",
       "9       tmp.trans.asc\n",
       "10     teamsheet.xlsx"
      ]
     },
     "execution_count": 6,
     "metadata": {},
     "output_type": "execute_result"
    }
   ],
   "source": [
    "# Explore Directory \r\n",
    "# \r\n",
    "# All data imported above become part of the working directory of tables. \r\n",
    "# To list all tables in the directory run wd.explore()\r\n",
    "\r\n",
    "# NOTE: Run wd.explore() to observe the results of the previous imports. \r\n",
    "#       When importing any data an optional argument called 'tblName' can \r\n",
    "#       be used to specify the name of the table once imported. (See previous examples) \r\n",
    "#       It is recommended to use this for all imports, if no tblName is specified the filename is used.\r\n",
    "#       Most filenames need to be entered as the location of the file and because of this you may result \r\n",
    "#       in a tblName such as data\\teamsheet.xlsx as seen below. \r\n",
    "\r\n",
    "wd.explore()"
   ]
  },
  {
   "cell_type": "code",
   "execution_count": null,
   "metadata": {},
   "outputs": [],
   "source": [
    "# Working Directory\r\n",
    "#\r\n",
    "# The command wd.wd() can be used to see the directory of this project. \r\n",
    "# This may be helpful when referrring to the directory/folder.\r\n",
    "wd.wd()"
   ]
  },
  {
   "cell_type": "code",
   "execution_count": null,
   "metadata": {},
   "outputs": [],
   "source": [
    "## ----- End of Formal Documentation ----- \r\n",
    "# DISCLAIMER: Any items below may not be fully functional or have not been formally documented."
   ]
  },
  {
   "cell_type": "code",
   "execution_count": null,
   "metadata": {},
   "outputs": [],
   "source": [
    "# Extract and Filter\n",
    "wd.open(\"file.trans.asc\")\n",
    "cnd = \"trans_id == 695247\"\n",
    "wd.extract(\"sample_trans\",condition=cnd)\n",
    "\n",
    "wd.open(\"file.district.asc\")\n",
    "wd.filter(\"A3 == 'north Moravia'\")\n",
    "wd.extract(\"northern Moravia\", \"A3 == 'north Moravia'\")\n",
    "\n",
    "# Explore\n",
    "wd.explore()\n",
    "\n",
    "# Exports\n",
    "wd.export(wd.csv,filename='Reports\\myCSV')\n",
    "wd.export(wd.mdb,filename='Reports\\myMDB')"
   ]
  },
  {
   "cell_type": "code",
   "execution_count": null,
   "metadata": {},
   "outputs": [],
   "source": [
    "wd.open(\"northern Moravia\")"
   ]
  },
  {
   "cell_type": "code",
   "execution_count": null,
   "metadata": {},
   "outputs": [],
   "source": [
    "wd.context.groupby(['A2'], as_index=False).agg(['count','sum','mean'])"
   ]
  },
  {
   "cell_type": "code",
   "execution_count": null,
   "metadata": {},
   "outputs": [],
   "source": [
    "wd.summBy(['A2'])"
   ]
  },
  {
   "cell_type": "code",
   "execution_count": null,
   "metadata": {},
   "outputs": [],
   "source": [
    "wd.context.columns = [\"_\".join(x) for x in wd.context.columns.ravel()]"
   ]
  },
  {
   "cell_type": "code",
   "execution_count": null,
   "metadata": {},
   "outputs": [],
   "source": [
    "not None"
   ]
  },
  {
   "cell_type": "code",
   "execution_count": null,
   "metadata": {},
   "outputs": [],
   "source": [
    "wd.addCol('Summers','A5 + A6')\n",
    "wd.addCol('Winters','A5 * A6')\n",
    "wd.addCol('Final', '\"Summer was \" + Summers')"
   ]
  },
  {
   "cell_type": "code",
   "execution_count": null,
   "metadata": {},
   "outputs": [],
   "source": [
    "for tbl in wd.db:\n",
    "    print(wd.db[tbl].memory_usage(index=True, deep=True).sum()/1000000.00)"
   ]
  },
  {
   "cell_type": "code",
   "execution_count": null,
   "metadata": {},
   "outputs": [],
   "source": [
    "dbfile = open('db', 'ab')\n",
    "pickle.dump(db, dbfile)                      \n",
    "dbfile.close() "
   ]
  }
 ],
 "metadata": {
  "interpreter": {
   "hash": "8869d9063849378753be3ba5bef8c3d574116281bad4e09e034a4625c3230bd3"
  },
  "kernelspec": {
   "display_name": "Python 3.7.0 32-bit",
   "name": "python3"
  },
  "language_info": {
   "name": "python",
   "version": ""
  },
  "orig_nbformat": 2
 },
 "nbformat": 4,
 "nbformat_minor": 2
}